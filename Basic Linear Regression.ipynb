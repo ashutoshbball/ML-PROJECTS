{
 "cells": [
  {
   "cell_type": "markdown",
   "id": "31b16076",
   "metadata": {},
   "source": [
    "# STEPS:\n",
    "    1- IMPORT LIBRARIES\n",
    "    2- LOAD DATA\n",
    "    3- INSIGHTS FROM DATA\n",
    "    4- PREPROCESSING:\n",
    "        (A) NULL VALUE TREATMENT\n",
    "        (B) ENCODING:- CONVERT NUMERICAL INTO CONTINOUS\n",
    "        (C) SPLIT DATA:- TRAIN AND TEST\n",
    "        (D) SCALING:- WE CREATE ALL FEATURES ON SAME SCALE\n",
    "    5- CREATE MODEL\n",
    "    6- FIT MODEL WITH SPLITTED DATA\n",
    "    7- PREDICTION\n",
    "    8- EVALUATION"
   ]
  },
  {
   "cell_type": "markdown",
   "id": "16fb6323",
   "metadata": {},
   "source": [
    "# (1) IMPORT LIBRARIES"
   ]
  },
  {
   "cell_type": "code",
   "execution_count": 1,
   "id": "ecc0d1ae",
   "metadata": {},
   "outputs": [],
   "source": [
    "import numpy as np\n",
    "import pandas as pd\n"
   ]
  },
  {
   "cell_type": "markdown",
   "id": "0e38ed16",
   "metadata": {},
   "source": [
    "# (2) LOAD DATA"
   ]
  },
  {
   "cell_type": "code",
   "execution_count": 2,
   "id": "d4214183",
   "metadata": {},
   "outputs": [],
   "source": [
    "df=pd.read_excel(\"Data_practice.XLSX\")"
   ]
  },
  {
   "cell_type": "markdown",
   "id": "8faefa3e",
   "metadata": {},
   "source": [
    "# (3) INSIGHTS FROM DATA"
   ]
  },
  {
   "cell_type": "code",
   "execution_count": 4,
   "id": "8663cef5",
   "metadata": {},
   "outputs": [
    {
     "data": {
      "text/plain": [
       "(23, 4)"
      ]
     },
     "execution_count": 4,
     "metadata": {},
     "output_type": "execute_result"
    }
   ],
   "source": [
    "df.shape"
   ]
  },
  {
   "cell_type": "code",
   "execution_count": 5,
   "id": "4a0e2623",
   "metadata": {},
   "outputs": [
    {
     "data": {
      "text/html": [
       "<div>\n",
       "<style scoped>\n",
       "    .dataframe tbody tr th:only-of-type {\n",
       "        vertical-align: middle;\n",
       "    }\n",
       "\n",
       "    .dataframe tbody tr th {\n",
       "        vertical-align: top;\n",
       "    }\n",
       "\n",
       "    .dataframe thead th {\n",
       "        text-align: right;\n",
       "    }\n",
       "</style>\n",
       "<table border=\"1\" class=\"dataframe\">\n",
       "  <thead>\n",
       "    <tr style=\"text-align: right;\">\n",
       "      <th></th>\n",
       "      <th>Weight</th>\n",
       "      <th>Height</th>\n",
       "      <th>BMI</th>\n",
       "      <th>look</th>\n",
       "    </tr>\n",
       "  </thead>\n",
       "  <tbody>\n",
       "    <tr>\n",
       "      <th>11</th>\n",
       "      <td>65.0</td>\n",
       "      <td>1.7</td>\n",
       "      <td>22.491349</td>\n",
       "      <td>Fit</td>\n",
       "    </tr>\n",
       "    <tr>\n",
       "      <th>10</th>\n",
       "      <td>60.0</td>\n",
       "      <td>1.7</td>\n",
       "      <td>20.761246</td>\n",
       "      <td>Fit</td>\n",
       "    </tr>\n",
       "    <tr>\n",
       "      <th>0</th>\n",
       "      <td>60.0</td>\n",
       "      <td>1.5</td>\n",
       "      <td>26.666667</td>\n",
       "      <td>Overweight</td>\n",
       "    </tr>\n",
       "    <tr>\n",
       "      <th>13</th>\n",
       "      <td>75.0</td>\n",
       "      <td>1.7</td>\n",
       "      <td>25.951557</td>\n",
       "      <td>Overweight</td>\n",
       "    </tr>\n",
       "  </tbody>\n",
       "</table>\n",
       "</div>"
      ],
      "text/plain": [
       "    Weight  Height        BMI        look\n",
       "11    65.0     1.7  22.491349         Fit\n",
       "10    60.0     1.7  20.761246         Fit\n",
       "0     60.0     1.5  26.666667  Overweight\n",
       "13    75.0     1.7  25.951557  Overweight"
      ]
     },
     "execution_count": 5,
     "metadata": {},
     "output_type": "execute_result"
    }
   ],
   "source": [
    "df.sample(4)"
   ]
  },
  {
   "cell_type": "code",
   "execution_count": 6,
   "id": "686a9d92",
   "metadata": {},
   "outputs": [
    {
     "data": {
      "text/html": [
       "<div>\n",
       "<style scoped>\n",
       "    .dataframe tbody tr th:only-of-type {\n",
       "        vertical-align: middle;\n",
       "    }\n",
       "\n",
       "    .dataframe tbody tr th {\n",
       "        vertical-align: top;\n",
       "    }\n",
       "\n",
       "    .dataframe thead th {\n",
       "        text-align: right;\n",
       "    }\n",
       "</style>\n",
       "<table border=\"1\" class=\"dataframe\">\n",
       "  <thead>\n",
       "    <tr style=\"text-align: right;\">\n",
       "      <th></th>\n",
       "      <th>Weight</th>\n",
       "      <th>Height</th>\n",
       "      <th>BMI</th>\n",
       "      <th>look</th>\n",
       "    </tr>\n",
       "  </thead>\n",
       "  <tbody>\n",
       "    <tr>\n",
       "      <th>0</th>\n",
       "      <td>60.0</td>\n",
       "      <td>1.5</td>\n",
       "      <td>26.666667</td>\n",
       "      <td>Overweight</td>\n",
       "    </tr>\n",
       "    <tr>\n",
       "      <th>1</th>\n",
       "      <td>65.0</td>\n",
       "      <td>1.5</td>\n",
       "      <td>28.888889</td>\n",
       "      <td>Overweight</td>\n",
       "    </tr>\n",
       "    <tr>\n",
       "      <th>2</th>\n",
       "      <td>70.0</td>\n",
       "      <td>1.5</td>\n",
       "      <td>31.111111</td>\n",
       "      <td>Overweight</td>\n",
       "    </tr>\n",
       "    <tr>\n",
       "      <th>3</th>\n",
       "      <td>75.0</td>\n",
       "      <td>1.5</td>\n",
       "      <td>33.333333</td>\n",
       "      <td>Overweight</td>\n",
       "    </tr>\n",
       "    <tr>\n",
       "      <th>4</th>\n",
       "      <td>80.0</td>\n",
       "      <td>1.5</td>\n",
       "      <td>35.555556</td>\n",
       "      <td>Overweight</td>\n",
       "    </tr>\n",
       "  </tbody>\n",
       "</table>\n",
       "</div>"
      ],
      "text/plain": [
       "   Weight  Height        BMI        look\n",
       "0    60.0     1.5  26.666667  Overweight\n",
       "1    65.0     1.5  28.888889  Overweight\n",
       "2    70.0     1.5  31.111111  Overweight\n",
       "3    75.0     1.5  33.333333  Overweight\n",
       "4    80.0     1.5  35.555556  Overweight"
      ]
     },
     "execution_count": 6,
     "metadata": {},
     "output_type": "execute_result"
    }
   ],
   "source": [
    "df.head()"
   ]
  },
  {
   "cell_type": "code",
   "execution_count": 7,
   "id": "acd2406d",
   "metadata": {},
   "outputs": [
    {
     "data": {
      "text/plain": [
       "Weight    float64\n",
       "Height    float64\n",
       "BMI       float64\n",
       "look       object\n",
       "dtype: object"
      ]
     },
     "execution_count": 7,
     "metadata": {},
     "output_type": "execute_result"
    }
   ],
   "source": [
    "df.dtypes"
   ]
  },
  {
   "cell_type": "code",
   "execution_count": 9,
   "id": "5ef6e9de",
   "metadata": {},
   "outputs": [
    {
     "data": {
      "text/html": [
       "<div>\n",
       "<style scoped>\n",
       "    .dataframe tbody tr th:only-of-type {\n",
       "        vertical-align: middle;\n",
       "    }\n",
       "\n",
       "    .dataframe tbody tr th {\n",
       "        vertical-align: top;\n",
       "    }\n",
       "\n",
       "    .dataframe thead th {\n",
       "        text-align: right;\n",
       "    }\n",
       "</style>\n",
       "<table border=\"1\" class=\"dataframe\">\n",
       "  <thead>\n",
       "    <tr style=\"text-align: right;\">\n",
       "      <th></th>\n",
       "      <th>count</th>\n",
       "      <th>mean</th>\n",
       "      <th>std</th>\n",
       "      <th>min</th>\n",
       "      <th>25%</th>\n",
       "      <th>50%</th>\n",
       "      <th>75%</th>\n",
       "      <th>max</th>\n",
       "    </tr>\n",
       "  </thead>\n",
       "  <tbody>\n",
       "    <tr>\n",
       "      <th>Weight</th>\n",
       "      <td>22.0</td>\n",
       "      <td>69.772727</td>\n",
       "      <td>6.982508</td>\n",
       "      <td>60.000000</td>\n",
       "      <td>65.000000</td>\n",
       "      <td>70.000000</td>\n",
       "      <td>75.000000</td>\n",
       "      <td>80.000000</td>\n",
       "    </tr>\n",
       "    <tr>\n",
       "      <th>Height</th>\n",
       "      <td>22.0</td>\n",
       "      <td>1.672727</td>\n",
       "      <td>0.131590</td>\n",
       "      <td>1.500000</td>\n",
       "      <td>1.600000</td>\n",
       "      <td>1.700000</td>\n",
       "      <td>1.800000</td>\n",
       "      <td>1.900000</td>\n",
       "    </tr>\n",
       "    <tr>\n",
       "      <th>BMI</th>\n",
       "      <td>23.0</td>\n",
       "      <td>25.018386</td>\n",
       "      <td>5.075479</td>\n",
       "      <td>16.620499</td>\n",
       "      <td>21.183092</td>\n",
       "      <td>24.691358</td>\n",
       "      <td>28.285275</td>\n",
       "      <td>35.555556</td>\n",
       "    </tr>\n",
       "  </tbody>\n",
       "</table>\n",
       "</div>"
      ],
      "text/plain": [
       "        count       mean       std        min        25%        50%  \\\n",
       "Weight   22.0  69.772727  6.982508  60.000000  65.000000  70.000000   \n",
       "Height   22.0   1.672727  0.131590   1.500000   1.600000   1.700000   \n",
       "BMI      23.0  25.018386  5.075479  16.620499  21.183092  24.691358   \n",
       "\n",
       "              75%        max  \n",
       "Weight  75.000000  80.000000  \n",
       "Height   1.800000   1.900000  \n",
       "BMI     28.285275  35.555556  "
      ]
     },
     "execution_count": 9,
     "metadata": {},
     "output_type": "execute_result"
    }
   ],
   "source": [
    "df.describe().T"
   ]
  },
  {
   "cell_type": "code",
   "execution_count": 10,
   "id": "a48dc182",
   "metadata": {},
   "outputs": [
    {
     "name": "stdout",
     "output_type": "stream",
     "text": [
      "<class 'pandas.core.frame.DataFrame'>\n",
      "RangeIndex: 23 entries, 0 to 22\n",
      "Data columns (total 4 columns):\n",
      " #   Column  Non-Null Count  Dtype  \n",
      "---  ------  --------------  -----  \n",
      " 0   Weight  22 non-null     float64\n",
      " 1   Height  22 non-null     float64\n",
      " 2   BMI     23 non-null     float64\n",
      " 3   look    23 non-null     object \n",
      "dtypes: float64(3), object(1)\n",
      "memory usage: 864.0+ bytes\n"
     ]
    }
   ],
   "source": [
    "df.info()"
   ]
  },
  {
   "cell_type": "markdown",
   "id": "22b1c297",
   "metadata": {},
   "source": [
    "# (4) PREPROCESSING"
   ]
  },
  {
   "cell_type": "markdown",
   "id": "31e619fb",
   "metadata": {},
   "source": [
    "# (a) null value treatment"
   ]
  },
  {
   "cell_type": "code",
   "execution_count": 12,
   "id": "cab1010e",
   "metadata": {},
   "outputs": [
    {
     "data": {
      "text/plain": [
       "Weight    1\n",
       "Height    1\n",
       "BMI       0\n",
       "look      0\n",
       "dtype: int64"
      ]
     },
     "execution_count": 12,
     "metadata": {},
     "output_type": "execute_result"
    }
   ],
   "source": [
    "df.isnull().sum()"
   ]
  },
  {
   "cell_type": "markdown",
   "id": "dff260d4",
   "metadata": {},
   "source": [
    "# we can impute or drop\n",
    "(a) mean or median:- if feature are in continous\n",
    "(b) mode:- feature is categorical"
   ]
  },
  {
   "cell_type": "markdown",
   "id": "b6a54d81",
   "metadata": {},
   "source": [
    "# by imputing"
   ]
  },
  {
   "cell_type": "code",
   "execution_count": 13,
   "id": "45ca9240",
   "metadata": {},
   "outputs": [],
   "source": [
    "p=df['Weight'].mean()"
   ]
  },
  {
   "cell_type": "code",
   "execution_count": 14,
   "id": "ada0b324",
   "metadata": {},
   "outputs": [
    {
     "data": {
      "text/plain": [
       "69.77272727272727"
      ]
     },
     "execution_count": 14,
     "metadata": {},
     "output_type": "execute_result"
    }
   ],
   "source": [
    "p"
   ]
  },
  {
   "cell_type": "code",
   "execution_count": 15,
   "id": "99bb4787",
   "metadata": {},
   "outputs": [],
   "source": [
    "df['Weight'].fillna(p,inplace=True)"
   ]
  },
  {
   "cell_type": "code",
   "execution_count": 16,
   "id": "5bb4e9a9",
   "metadata": {},
   "outputs": [
    {
     "data": {
      "text/plain": [
       "Weight    0\n",
       "Height    1\n",
       "BMI       0\n",
       "look      0\n",
       "dtype: int64"
      ]
     },
     "execution_count": 16,
     "metadata": {},
     "output_type": "execute_result"
    }
   ],
   "source": [
    "df.isnull().sum()"
   ]
  },
  {
   "cell_type": "code",
   "execution_count": 17,
   "id": "ef32efdb",
   "metadata": {},
   "outputs": [],
   "source": [
    "q=df['Height'].mean()"
   ]
  },
  {
   "cell_type": "code",
   "execution_count": 18,
   "id": "d33535f5",
   "metadata": {},
   "outputs": [
    {
     "data": {
      "text/plain": [
       "1.6727272727272726"
      ]
     },
     "execution_count": 18,
     "metadata": {},
     "output_type": "execute_result"
    }
   ],
   "source": [
    "q"
   ]
  },
  {
   "cell_type": "code",
   "execution_count": 19,
   "id": "0d18a8e5",
   "metadata": {},
   "outputs": [],
   "source": [
    "df['Height'].fillna(q,inplace=True)"
   ]
  },
  {
   "cell_type": "code",
   "execution_count": 20,
   "id": "874ac445",
   "metadata": {},
   "outputs": [
    {
     "data": {
      "text/plain": [
       "Weight    0\n",
       "Height    0\n",
       "BMI       0\n",
       "look      0\n",
       "dtype: int64"
      ]
     },
     "execution_count": 20,
     "metadata": {},
     "output_type": "execute_result"
    }
   ],
   "source": [
    "df.isnull().sum()"
   ]
  },
  {
   "cell_type": "markdown",
   "id": "4820f24b",
   "metadata": {},
   "source": [
    "# by dropping\n"
   ]
  },
  {
   "cell_type": "code",
   "execution_count": 21,
   "id": "2f829b03",
   "metadata": {},
   "outputs": [],
   "source": [
    "df1=pd.read_excel('Data_practice.xlsx')"
   ]
  },
  {
   "cell_type": "code",
   "execution_count": 23,
   "id": "c0e6d72f",
   "metadata": {},
   "outputs": [
    {
     "data": {
      "text/plain": [
       "Weight    1\n",
       "Height    1\n",
       "BMI       0\n",
       "look      0\n",
       "dtype: int64"
      ]
     },
     "execution_count": 23,
     "metadata": {},
     "output_type": "execute_result"
    }
   ],
   "source": [
    "df1.isnull().sum()"
   ]
  },
  {
   "cell_type": "code",
   "execution_count": 24,
   "id": "261edee4",
   "metadata": {},
   "outputs": [],
   "source": [
    "df1=df1.dropna()"
   ]
  },
  {
   "cell_type": "code",
   "execution_count": 25,
   "id": "622565fa",
   "metadata": {},
   "outputs": [
    {
     "data": {
      "text/plain": [
       "Weight    0\n",
       "Height    0\n",
       "BMI       0\n",
       "look      0\n",
       "dtype: int64"
      ]
     },
     "execution_count": 25,
     "metadata": {},
     "output_type": "execute_result"
    }
   ],
   "source": [
    "df1.isnull().sum()"
   ]
  },
  {
   "cell_type": "markdown",
   "id": "481f6769",
   "metadata": {},
   "source": [
    "# (b)encoding: converting categorical into numerical/continous"
   ]
  },
  {
   "cell_type": "code",
   "execution_count": 26,
   "id": "9ed80f20",
   "metadata": {},
   "outputs": [],
   "source": [
    "# sklearn library gives us functions for preprocessing, train test splitting,model building,evaluation"
   ]
  },
  {
   "cell_type": "code",
   "execution_count": 27,
   "id": "b63c1542",
   "metadata": {},
   "outputs": [],
   "source": [
    "from sklearn.preprocessing import LabelEncoder"
   ]
  },
  {
   "cell_type": "code",
   "execution_count": 28,
   "id": "c0807d40",
   "metadata": {},
   "outputs": [],
   "source": [
    "le=LabelEncoder()"
   ]
  },
  {
   "cell_type": "code",
   "execution_count": 30,
   "id": "16a335a0",
   "metadata": {},
   "outputs": [],
   "source": [
    "df=df.apply(le.fit_transform)"
   ]
  },
  {
   "cell_type": "code",
   "execution_count": 31,
   "id": "9dcf2d30",
   "metadata": {},
   "outputs": [
    {
     "data": {
      "text/plain": [
       "Weight    int64\n",
       "Height    int64\n",
       "BMI       int64\n",
       "look      int32\n",
       "dtype: object"
      ]
     },
     "execution_count": 31,
     "metadata": {},
     "output_type": "execute_result"
    }
   ],
   "source": [
    "df.dtypes"
   ]
  },
  {
   "cell_type": "code",
   "execution_count": 32,
   "id": "7cdb39bf",
   "metadata": {},
   "outputs": [
    {
     "data": {
      "text/html": [
       "<div>\n",
       "<style scoped>\n",
       "    .dataframe tbody tr th:only-of-type {\n",
       "        vertical-align: middle;\n",
       "    }\n",
       "\n",
       "    .dataframe tbody tr th {\n",
       "        vertical-align: top;\n",
       "    }\n",
       "\n",
       "    .dataframe thead th {\n",
       "        text-align: right;\n",
       "    }\n",
       "</style>\n",
       "<table border=\"1\" class=\"dataframe\">\n",
       "  <thead>\n",
       "    <tr style=\"text-align: right;\">\n",
       "      <th></th>\n",
       "      <th>Weight</th>\n",
       "      <th>Height</th>\n",
       "      <th>BMI</th>\n",
       "      <th>look</th>\n",
       "    </tr>\n",
       "  </thead>\n",
       "  <tbody>\n",
       "    <tr>\n",
       "      <th>17</th>\n",
       "      <td>3</td>\n",
       "      <td>4</td>\n",
       "      <td>6</td>\n",
       "      <td>0</td>\n",
       "    </tr>\n",
       "    <tr>\n",
       "      <th>10</th>\n",
       "      <td>0</td>\n",
       "      <td>3</td>\n",
       "      <td>5</td>\n",
       "      <td>0</td>\n",
       "    </tr>\n",
       "    <tr>\n",
       "      <th>14</th>\n",
       "      <td>5</td>\n",
       "      <td>3</td>\n",
       "      <td>16</td>\n",
       "      <td>1</td>\n",
       "    </tr>\n",
       "    <tr>\n",
       "      <th>13</th>\n",
       "      <td>4</td>\n",
       "      <td>3</td>\n",
       "      <td>13</td>\n",
       "      <td>1</td>\n",
       "    </tr>\n",
       "    <tr>\n",
       "      <th>16</th>\n",
       "      <td>1</td>\n",
       "      <td>4</td>\n",
       "      <td>4</td>\n",
       "      <td>0</td>\n",
       "    </tr>\n",
       "  </tbody>\n",
       "</table>\n",
       "</div>"
      ],
      "text/plain": [
       "    Weight  Height  BMI  look\n",
       "17       3       4    6     0\n",
       "10       0       3    5     0\n",
       "14       5       3   16     1\n",
       "13       4       3   13     1\n",
       "16       1       4    4     0"
      ]
     },
     "execution_count": 32,
     "metadata": {},
     "output_type": "execute_result"
    }
   ],
   "source": [
    "df.sample(5)"
   ]
  },
  {
   "cell_type": "markdown",
   "id": "2f135900",
   "metadata": {},
   "source": [
    "# (c) splitting data"
   ]
  },
  {
   "cell_type": "markdown",
   "id": "7c766ab0",
   "metadata": {},
   "source": [
    "# Split data into features(independent variables) and labels(dependent/target variable)"
   ]
  },
  {
   "cell_type": "code",
   "execution_count": 33,
   "id": "f71de5c3",
   "metadata": {},
   "outputs": [],
   "source": [
    "df_new=df.drop(columns=['look'])"
   ]
  },
  {
   "cell_type": "code",
   "execution_count": 34,
   "id": "bafb52a2",
   "metadata": {},
   "outputs": [
    {
     "data": {
      "text/html": [
       "<div>\n",
       "<style scoped>\n",
       "    .dataframe tbody tr th:only-of-type {\n",
       "        vertical-align: middle;\n",
       "    }\n",
       "\n",
       "    .dataframe tbody tr th {\n",
       "        vertical-align: top;\n",
       "    }\n",
       "\n",
       "    .dataframe thead th {\n",
       "        text-align: right;\n",
       "    }\n",
       "</style>\n",
       "<table border=\"1\" class=\"dataframe\">\n",
       "  <thead>\n",
       "    <tr style=\"text-align: right;\">\n",
       "      <th></th>\n",
       "      <th>Weight</th>\n",
       "      <th>Height</th>\n",
       "      <th>BMI</th>\n",
       "    </tr>\n",
       "  </thead>\n",
       "  <tbody>\n",
       "    <tr>\n",
       "      <th>0</th>\n",
       "      <td>0</td>\n",
       "      <td>0</td>\n",
       "      <td>14</td>\n",
       "    </tr>\n",
       "    <tr>\n",
       "      <th>1</th>\n",
       "      <td>1</td>\n",
       "      <td>0</td>\n",
       "      <td>17</td>\n",
       "    </tr>\n",
       "    <tr>\n",
       "      <th>2</th>\n",
       "      <td>3</td>\n",
       "      <td>0</td>\n",
       "      <td>19</td>\n",
       "    </tr>\n",
       "    <tr>\n",
       "      <th>3</th>\n",
       "      <td>4</td>\n",
       "      <td>0</td>\n",
       "      <td>21</td>\n",
       "    </tr>\n",
       "    <tr>\n",
       "      <th>4</th>\n",
       "      <td>5</td>\n",
       "      <td>0</td>\n",
       "      <td>22</td>\n",
       "    </tr>\n",
       "  </tbody>\n",
       "</table>\n",
       "</div>"
      ],
      "text/plain": [
       "   Weight  Height  BMI\n",
       "0       0       0   14\n",
       "1       1       0   17\n",
       "2       3       0   19\n",
       "3       4       0   21\n",
       "4       5       0   22"
      ]
     },
     "execution_count": 34,
     "metadata": {},
     "output_type": "execute_result"
    }
   ],
   "source": [
    "df_new.head()"
   ]
  },
  {
   "cell_type": "code",
   "execution_count": 37,
   "id": "1003d3ce",
   "metadata": {},
   "outputs": [],
   "source": [
    "features=df_new.columns[:-1]"
   ]
  },
  {
   "cell_type": "code",
   "execution_count": 38,
   "id": "84063235",
   "metadata": {},
   "outputs": [
    {
     "data": {
      "text/plain": [
       "Index(['Weight', 'Height'], dtype='object')"
      ]
     },
     "execution_count": 38,
     "metadata": {},
     "output_type": "execute_result"
    }
   ],
   "source": [
    "features"
   ]
  },
  {
   "cell_type": "code",
   "execution_count": 42,
   "id": "040dc559",
   "metadata": {},
   "outputs": [],
   "source": [
    "label=df_new.columns[-1]"
   ]
  },
  {
   "cell_type": "code",
   "execution_count": 43,
   "id": "1784cecc",
   "metadata": {},
   "outputs": [
    {
     "data": {
      "text/plain": [
       "'BMI'"
      ]
     },
     "execution_count": 43,
     "metadata": {},
     "output_type": "execute_result"
    }
   ],
   "source": [
    "label"
   ]
  },
  {
   "cell_type": "code",
   "execution_count": 44,
   "id": "4f9dc30b",
   "metadata": {},
   "outputs": [],
   "source": [
    "x=df_new[features]\n",
    "y=df_new[label]"
   ]
  },
  {
   "cell_type": "code",
   "execution_count": 46,
   "id": "79798164",
   "metadata": {},
   "outputs": [
    {
     "data": {
      "text/plain": [
       "(    Weight  Height\n",
       " 0        0       0\n",
       " 1        1       0\n",
       " 2        3       0\n",
       " 3        4       0\n",
       " 4        5       0\n",
       " 5        0       1\n",
       " 6        1       1\n",
       " 7        3       1\n",
       " 8        4       1\n",
       " 9        5       1\n",
       " 10       0       3\n",
       " 11       1       3\n",
       " 12       3       3\n",
       " 13       4       3\n",
       " 14       5       3\n",
       " 15       0       4\n",
       " 16       1       4\n",
       " 17       3       4\n",
       " 18       4       4\n",
       " 19       5       4\n",
       " 20       2       5\n",
       " 21       1       2\n",
       " 22       3       5,\n",
       " 0     14\n",
       " 1     17\n",
       " 2     19\n",
       " 3     21\n",
       " 4     22\n",
       " 5      9\n",
       " 6     12\n",
       " 7     15\n",
       " 8     18\n",
       " 9     20\n",
       " 10     5\n",
       " 11     7\n",
       " 12    10\n",
       " 13    13\n",
       " 14    16\n",
       " 15     2\n",
       " 16     4\n",
       " 17     6\n",
       " 18     8\n",
       " 19    11\n",
       " 20     0\n",
       " 21     1\n",
       " 22     3\n",
       " Name: BMI, dtype: int64)"
      ]
     },
     "execution_count": 46,
     "metadata": {},
     "output_type": "execute_result"
    }
   ],
   "source": [
    "x,y"
   ]
  },
  {
   "cell_type": "markdown",
   "id": "115bed7d",
   "metadata": {},
   "source": [
    "# split data into train and test"
   ]
  },
  {
   "cell_type": "code",
   "execution_count": 47,
   "id": "4cd72544",
   "metadata": {},
   "outputs": [],
   "source": [
    "from sklearn.model_selection import train_test_split"
   ]
  },
  {
   "cell_type": "code",
   "execution_count": 48,
   "id": "67e79985",
   "metadata": {},
   "outputs": [],
   "source": [
    "x_train,x_test,y_train,y_test=train_test_split(x,y,test_size=0.3,random_state=4)"
   ]
  },
  {
   "cell_type": "code",
   "execution_count": 49,
   "id": "0613320a",
   "metadata": {},
   "outputs": [
    {
     "data": {
      "text/plain": [
       "(16, 2)"
      ]
     },
     "execution_count": 49,
     "metadata": {},
     "output_type": "execute_result"
    }
   ],
   "source": [
    "x_train.shape"
   ]
  },
  {
   "cell_type": "code",
   "execution_count": 50,
   "id": "50e27688",
   "metadata": {},
   "outputs": [
    {
     "data": {
      "text/plain": [
       "(7, 2)"
      ]
     },
     "execution_count": 50,
     "metadata": {},
     "output_type": "execute_result"
    }
   ],
   "source": [
    "x_test.shape"
   ]
  },
  {
   "cell_type": "code",
   "execution_count": 51,
   "id": "4aa569e3",
   "metadata": {},
   "outputs": [
    {
     "data": {
      "text/plain": [
       "(16,)"
      ]
     },
     "execution_count": 51,
     "metadata": {},
     "output_type": "execute_result"
    }
   ],
   "source": [
    "y_train.shape"
   ]
  },
  {
   "cell_type": "code",
   "execution_count": 52,
   "id": "b87d976c",
   "metadata": {},
   "outputs": [
    {
     "data": {
      "text/plain": [
       "(7,)"
      ]
     },
     "execution_count": 52,
     "metadata": {},
     "output_type": "execute_result"
    }
   ],
   "source": [
    "y_test.shape"
   ]
  },
  {
   "cell_type": "markdown",
   "id": "e436f79c",
   "metadata": {},
   "source": [
    "# (d) scaling"
   ]
  },
  {
   "cell_type": "code",
   "execution_count": 53,
   "id": "c90b7c8e",
   "metadata": {},
   "outputs": [],
   "source": [
    "from sklearn.preprocessing import MinMaxScaler,StandardScaler"
   ]
  },
  {
   "cell_type": "code",
   "execution_count": 54,
   "id": "24ec7d3c",
   "metadata": {},
   "outputs": [],
   "source": [
    "scaler=MinMaxScaler()"
   ]
  },
  {
   "cell_type": "code",
   "execution_count": 55,
   "id": "14b6bb6b",
   "metadata": {},
   "outputs": [],
   "source": [
    "x_train=scaler.fit_transform(x_train)"
   ]
  },
  {
   "cell_type": "code",
   "execution_count": 56,
   "id": "c77d981c",
   "metadata": {},
   "outputs": [
    {
     "data": {
      "text/plain": [
       "array([[0.2, 0.6],\n",
       "       [0.6, 0. ],\n",
       "       [1. , 0. ],\n",
       "       [0.8, 0.8],\n",
       "       [0.6, 0.8],\n",
       "       [0. , 0.8],\n",
       "       [0.2, 0.8],\n",
       "       [0.6, 1. ],\n",
       "       [0.8, 0.6],\n",
       "       [0.6, 0.2],\n",
       "       [1. , 0.2],\n",
       "       [1. , 0.8],\n",
       "       [0.8, 0.2],\n",
       "       [0.2, 0. ],\n",
       "       [0. , 0.2],\n",
       "       [1. , 0.6]])"
      ]
     },
     "execution_count": 56,
     "metadata": {},
     "output_type": "execute_result"
    }
   ],
   "source": [
    "x_train"
   ]
  },
  {
   "cell_type": "code",
   "execution_count": 58,
   "id": "fb76370b",
   "metadata": {},
   "outputs": [],
   "source": [
    "x_test=scaler.fit_transform(x_test)"
   ]
  },
  {
   "cell_type": "code",
   "execution_count": 59,
   "id": "3daeae47",
   "metadata": {},
   "outputs": [
    {
     "data": {
      "text/plain": [
       "array([[0.25, 0.4 ],\n",
       "       [0.5 , 1.  ],\n",
       "       [0.  , 0.  ],\n",
       "       [1.  , 0.  ],\n",
       "       [0.75, 0.6 ],\n",
       "       [0.  , 0.6 ],\n",
       "       [0.25, 0.2 ]])"
      ]
     },
     "execution_count": 59,
     "metadata": {},
     "output_type": "execute_result"
    }
   ],
   "source": [
    "x_test"
   ]
  },
  {
   "cell_type": "markdown",
   "id": "881c20a4",
   "metadata": {},
   "source": [
    "# (5) CREATE MODEL"
   ]
  },
  {
   "cell_type": "code",
   "execution_count": 60,
   "id": "d632b710",
   "metadata": {},
   "outputs": [],
   "source": [
    "from sklearn.linear_model import LinearRegression"
   ]
  },
  {
   "cell_type": "code",
   "execution_count": 61,
   "id": "308c6196",
   "metadata": {},
   "outputs": [],
   "source": [
    "model=LinearRegression()"
   ]
  },
  {
   "cell_type": "markdown",
   "id": "6e571c1b",
   "metadata": {},
   "source": [
    "# (6) MODEL FITTING"
   ]
  },
  {
   "cell_type": "code",
   "execution_count": 62,
   "id": "1c305ca1",
   "metadata": {},
   "outputs": [],
   "source": [
    "s1=model.fit(x_train,y_train)"
   ]
  },
  {
   "cell_type": "markdown",
   "id": "3c81863e",
   "metadata": {},
   "source": [
    "# model attributes"
   ]
  },
  {
   "cell_type": "code",
   "execution_count": 63,
   "id": "d9d6b8a3",
   "metadata": {},
   "outputs": [],
   "source": [
    "s=s1.score(x_train,y_train)"
   ]
  },
  {
   "cell_type": "code",
   "execution_count": 64,
   "id": "e1a31903",
   "metadata": {},
   "outputs": [
    {
     "name": "stdout",
     "output_type": "stream",
     "text": [
      "coeff of determination 0.9730200128930135\n"
     ]
    }
   ],
   "source": [
    "print(\"coeff of determination\",s)"
   ]
  },
  {
   "cell_type": "code",
   "execution_count": 65,
   "id": "8c29beec",
   "metadata": {},
   "outputs": [
    {
     "name": "stdout",
     "output_type": "stream",
     "text": [
      "intrerceptt 13.481266801075268\n"
     ]
    }
   ],
   "source": [
    "print(\"intrerceptt\",s1.intercept_)"
   ]
  },
  {
   "cell_type": "code",
   "execution_count": 66,
   "id": "2331dd2d",
   "metadata": {},
   "outputs": [
    {
     "name": "stdout",
     "output_type": "stream",
     "text": [
      "slope [  9.39936156 -15.00714046]\n"
     ]
    }
   ],
   "source": [
    "print('slope',s1.coef_)"
   ]
  },
  {
   "cell_type": "markdown",
   "id": "0743daef",
   "metadata": {},
   "source": [
    "# (7) PREDICTION"
   ]
  },
  {
   "cell_type": "code",
   "execution_count": 68,
   "id": "d5d67e39",
   "metadata": {},
   "outputs": [],
   "source": [
    "y_pred=s1.predict(x_test)"
   ]
  },
  {
   "cell_type": "code",
   "execution_count": 69,
   "id": "f1ea0a57",
   "metadata": {},
   "outputs": [
    {
     "data": {
      "text/plain": [
       "array([ 9.82825101,  3.17380712, 13.4812668 , 22.88062836, 11.5265037 ,\n",
       "        4.47698253, 12.8296791 ])"
      ]
     },
     "execution_count": 69,
     "metadata": {},
     "output_type": "execute_result"
    }
   ],
   "source": [
    "y_pred"
   ]
  },
  {
   "cell_type": "code",
   "execution_count": 71,
   "id": "f56a8ab8",
   "metadata": {},
   "outputs": [
    {
     "data": {
      "text/plain": [
       "21     1\n",
       "20     0\n",
       "0     14\n",
       "3     21\n",
       "12    10\n",
       "10     5\n",
       "6     12\n",
       "Name: BMI, dtype: int64"
      ]
     },
     "execution_count": 71,
     "metadata": {},
     "output_type": "execute_result"
    }
   ],
   "source": [
    "y_test"
   ]
  },
  {
   "cell_type": "code",
   "execution_count": 72,
   "id": "6821aa54",
   "metadata": {},
   "outputs": [],
   "source": [
    "df_com=pd.DataFrame({'Actual':y_test,'Predicted':y_pred})"
   ]
  },
  {
   "cell_type": "code",
   "execution_count": 73,
   "id": "d1ab5dd0",
   "metadata": {},
   "outputs": [
    {
     "data": {
      "text/html": [
       "<div>\n",
       "<style scoped>\n",
       "    .dataframe tbody tr th:only-of-type {\n",
       "        vertical-align: middle;\n",
       "    }\n",
       "\n",
       "    .dataframe tbody tr th {\n",
       "        vertical-align: top;\n",
       "    }\n",
       "\n",
       "    .dataframe thead th {\n",
       "        text-align: right;\n",
       "    }\n",
       "</style>\n",
       "<table border=\"1\" class=\"dataframe\">\n",
       "  <thead>\n",
       "    <tr style=\"text-align: right;\">\n",
       "      <th></th>\n",
       "      <th>Actual</th>\n",
       "      <th>Predicted</th>\n",
       "    </tr>\n",
       "  </thead>\n",
       "  <tbody>\n",
       "    <tr>\n",
       "      <th>21</th>\n",
       "      <td>1</td>\n",
       "      <td>9.828251</td>\n",
       "    </tr>\n",
       "    <tr>\n",
       "      <th>20</th>\n",
       "      <td>0</td>\n",
       "      <td>3.173807</td>\n",
       "    </tr>\n",
       "    <tr>\n",
       "      <th>0</th>\n",
       "      <td>14</td>\n",
       "      <td>13.481267</td>\n",
       "    </tr>\n",
       "    <tr>\n",
       "      <th>3</th>\n",
       "      <td>21</td>\n",
       "      <td>22.880628</td>\n",
       "    </tr>\n",
       "    <tr>\n",
       "      <th>12</th>\n",
       "      <td>10</td>\n",
       "      <td>11.526504</td>\n",
       "    </tr>\n",
       "    <tr>\n",
       "      <th>10</th>\n",
       "      <td>5</td>\n",
       "      <td>4.476983</td>\n",
       "    </tr>\n",
       "    <tr>\n",
       "      <th>6</th>\n",
       "      <td>12</td>\n",
       "      <td>12.829679</td>\n",
       "    </tr>\n",
       "  </tbody>\n",
       "</table>\n",
       "</div>"
      ],
      "text/plain": [
       "    Actual  Predicted\n",
       "21       1   9.828251\n",
       "20       0   3.173807\n",
       "0       14  13.481267\n",
       "3       21  22.880628\n",
       "12      10  11.526504\n",
       "10       5   4.476983\n",
       "6       12  12.829679"
      ]
     },
     "execution_count": 73,
     "metadata": {},
     "output_type": "execute_result"
    }
   ],
   "source": [
    "df_com"
   ]
  },
  {
   "cell_type": "markdown",
   "id": "e530cc2d",
   "metadata": {},
   "source": [
    "# (8) MODEL EVALUATION"
   ]
  },
  {
   "cell_type": "code",
   "execution_count": 74,
   "id": "99f057e9",
   "metadata": {},
   "outputs": [],
   "source": [
    "from sklearn.metrics import mean_squared_error,r2_score"
   ]
  },
  {
   "cell_type": "code",
   "execution_count": 75,
   "id": "c97e6c3c",
   "metadata": {},
   "outputs": [],
   "source": [
    "mse=mean_squared_error(y_test,y_pred)"
   ]
  },
  {
   "cell_type": "code",
   "execution_count": 76,
   "id": "ffd538a6",
   "metadata": {},
   "outputs": [
    {
     "data": {
      "text/plain": [
       "13.587006128624083"
      ]
     },
     "execution_count": 76,
     "metadata": {},
     "output_type": "execute_result"
    }
   ],
   "source": [
    "mse"
   ]
  },
  {
   "cell_type": "code",
   "execution_count": 77,
   "id": "0cccf331",
   "metadata": {},
   "outputs": [],
   "source": [
    "r2=r2_score(y_test,y_pred)"
   ]
  },
  {
   "cell_type": "code",
   "execution_count": 78,
   "id": "abbc4de3",
   "metadata": {},
   "outputs": [
    {
     "data": {
      "text/plain": [
       "0.7202675208812689"
      ]
     },
     "execution_count": 78,
     "metadata": {},
     "output_type": "execute_result"
    }
   ],
   "source": [
    "r2"
   ]
  },
  {
   "cell_type": "code",
   "execution_count": null,
   "id": "0df9d2e3",
   "metadata": {},
   "outputs": [],
   "source": []
  }
 ],
 "metadata": {
  "kernelspec": {
   "display_name": "Python 3 (ipykernel)",
   "language": "python",
   "name": "python3"
  },
  "language_info": {
   "codemirror_mode": {
    "name": "ipython",
    "version": 3
   },
   "file_extension": ".py",
   "mimetype": "text/x-python",
   "name": "python",
   "nbconvert_exporter": "python",
   "pygments_lexer": "ipython3",
   "version": "3.9.13"
  }
 },
 "nbformat": 4,
 "nbformat_minor": 5
}
